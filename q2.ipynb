{
 "cells": [
  {
   "cell_type": "code",
   "execution_count": 5,
   "id": "b1a36060",
   "metadata": {},
   "outputs": [],
   "source": [
    "import import_ipynb            #for import ipynb files\n",
    "import mylibrary_true as ml         #importing library\n",
    "import numpy as np             #for loading file\n",
    "import math                    #floor and ceil"
   ]
  },
  {
   "cell_type": "code",
   "execution_count": 6,
   "id": "befdaa69",
   "metadata": {},
   "outputs": [
    {
     "name": "stdout",
     "output_type": "stream",
     "text": [
      "[[0. 0. 0. 2.]\n",
      " [0. 0. 3. 0.]\n",
      " [0. 4. 0. 0.]\n",
      " [5. 0. 0. 0.]]\n",
      "[[1, 0, 0, 0], [0, 1, 0, 0], [0, 0, 1, 0], [0, 0, 0, 1]]\n"
     ]
    }
   ],
   "source": [
    "#Loading the files\n",
    "\n",
    "A = np.loadtxt('q2.csv', delimiter = ',')  \n",
    "B = ml.Matrix_operations.generate_identity(4)   #generating an identity matrix B\n",
    "print(A)\n",
    "print(B)"
   ]
  },
  {
   "cell_type": "code",
   "execution_count": 7,
   "id": "41b3fb54",
   "metadata": {},
   "outputs": [
    {
     "name": "stdout",
     "output_type": "stream",
     "text": [
      "The original augmented matrix is: \n",
      "\n",
      "[0. 0. 0. 2. 1. 0. 0. 0.]\n",
      "[0. 0. 3. 0. 0. 1. 0. 0.]\n",
      "[0. 4. 0. 0. 0. 0. 1. 0.]\n",
      "[5. 0. 0. 0. 0. 0. 0. 1.]\n",
      "\n",
      "\n",
      "The final augmented after gauss jordan elimination matrix is: \n",
      "\n",
      "[1.0, 0.0, 0.0, 0.0, 0.0, 0.0, 0.0, 0.2]\n",
      "[0.0, 1.0, 0.0, 0.0, 0.0, 0.0, 0.25, 0.0]\n",
      "[0.0, 0.0, 1.0, 0.0, 0.0, 0.33, 0.0, 0.0]\n",
      "[0.0, 0.0, 0.0, 1.0, 0.5, 0.0, 0.0, 0.0]\n",
      "\n",
      "\n",
      "The inverse matrix is:\n",
      "[0.0, 0.0, 0.0, 0.2]\n",
      "[0.0, 0.0, 0.25, 0.0]\n",
      "[0.0, 0.33, 0.0, 0.0]\n",
      "[0.5, 0.0, 0.0, 0.0]\n",
      "\n",
      "\n",
      "Matrix multiplication of A and A inverse is:\n",
      "[1.0, 0.0, 0.0, 0.0]\n",
      "[0.0, 0.99, 0.0, 0.0]\n",
      "[0.0, 0.0, 1.0, 0.0]\n",
      "[0.0, 0.0, 0.0, 1.0]\n",
      "\n",
      "\n"
     ]
    },
    {
     "data": {
      "text/plain": [
       "'If multiplication of A and A inverse is close to zero then A inverse is correct to two orders of magnitude'"
      ]
     },
     "execution_count": 7,
     "metadata": {},
     "output_type": "execute_result"
    }
   ],
   "source": [
    "#augmenting the matrices A and B, keeping one for comparison(original)\n",
    "\n",
    "aug_mat_original = ml.Matrix_operations.augment_matrix(A, B)    \n",
    "aug_mat = ml.Matrix_operations.augment_matrix(A, B)\n",
    "\n",
    "\n",
    "\n",
    "#Printing the initial augmented matrix\n",
    "\n",
    "print(\"The original augmented matrix is:\", \"\\n\")\n",
    "ml.Printing.print_matrix(aug_mat_original)\n",
    "\n",
    "\n",
    "\n",
    "#Performing Gauss Jordan Elimination to find out the inverse of A\n",
    "\n",
    "ml.Gauss_jordan.solve(aug_mat)\n",
    "\n",
    "#Printing the final augmented matrix after elimination #Abha Vishwakarma 1911003\n",
    "\n",
    "print(\"The final augmented after gauss jordan elimination matrix is:\", \"\\n\")\n",
    "ml.Printing.print_matrix(aug_mat)\n",
    "\n",
    "\n",
    "\n",
    "#seperating the augmented matrix into its components\n",
    "\n",
    "aug_A, inv_A = ml.Matrix_operations.separate_aug_mat(aug_mat)\n",
    "\n",
    "\n",
    "#Printing the inverse matrix\n",
    "\n",
    "print(\"The inverse matrix is:\")\n",
    "ml.Printing.print_matrix(inv_A)\n",
    "\n",
    "\n",
    "\n",
    "#Mutiplying A with its inverse and printing to check if the inverse is correct\n",
    "\n",
    "mult = ml.Round.round_matrix(ml.Matrix_operations.mat_mult(A, inv_A), 2)\n",
    "\n",
    "print(\"Matrix multiplication of A and A inverse is:\")\n",
    "ml.Printing.print_matrix(mult)\n",
    "\n",
    "'''If multiplication of A and A inverse is close to zero then A inverse is correct to two orders of magnitude'''\n",
    "\n"
   ]
  },
  {
   "cell_type": "code",
   "execution_count": null,
   "id": "a482c0e9",
   "metadata": {},
   "outputs": [],
   "source": []
  },
  {
   "cell_type": "code",
   "execution_count": null,
   "id": "f826ffa0",
   "metadata": {},
   "outputs": [],
   "source": []
  },
  {
   "cell_type": "code",
   "execution_count": null,
   "id": "298c3e38",
   "metadata": {},
   "outputs": [],
   "source": []
  }
 ],
 "metadata": {
  "kernelspec": {
   "display_name": "Python 3",
   "language": "python",
   "name": "python3"
  },
  "language_info": {
   "codemirror_mode": {
    "name": "ipython",
    "version": 3
   },
   "file_extension": ".py",
   "mimetype": "text/x-python",
   "name": "python",
   "nbconvert_exporter": "python",
   "pygments_lexer": "ipython3",
   "version": "3.8.8"
  }
 },
 "nbformat": 4,
 "nbformat_minor": 5
}
