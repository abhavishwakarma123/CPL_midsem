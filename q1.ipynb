{
 "cells": [
  {
   "cell_type": "code",
   "execution_count": 23,
   "id": "4ff67d89",
   "metadata": {},
   "outputs": [],
   "source": [
    "import import_ipynb      #for importing other files in jupyter\n",
    "import mylibrary_true as ml   #for accessing library\n",
    "import math              #for exponential function"
   ]
  },
  {
   "cell_type": "code",
   "execution_count": 24,
   "id": "5f188d9d",
   "metadata": {},
   "outputs": [
    {
     "ename": "OverflowError",
     "evalue": "math range error",
     "output_type": "error",
     "traceback": [
      "\u001b[1;31m---------------------------------------------------------------------------\u001b[0m",
      "\u001b[1;31mOverflowError\u001b[0m                             Traceback (most recent call last)",
      "\u001b[1;32m<ipython-input-24-d5917ad27d02>\u001b[0m in \u001b[0;36m<module>\u001b[1;34m\u001b[0m\n\u001b[0;32m     14\u001b[0m \u001b[0mguess_1\u001b[0m \u001b[1;33m=\u001b[0m \u001b[1;36m4\u001b[0m\u001b[1;33m\u001b[0m\u001b[1;33m\u001b[0m\u001b[0m\n\u001b[0;32m     15\u001b[0m \u001b[1;33m\u001b[0m\u001b[0m\n\u001b[1;32m---> 16\u001b[1;33m \u001b[0mroot_1\u001b[0m \u001b[1;33m=\u001b[0m \u001b[0mml\u001b[0m\u001b[1;33m.\u001b[0m\u001b[0mRoots\u001b[0m\u001b[1;33m.\u001b[0m\u001b[0mnewton_raphson\u001b[0m\u001b[1;33m(\u001b[0m\u001b[0mexp\u001b[0m\u001b[1;33m,\u001b[0m \u001b[0mguess_1\u001b[0m\u001b[1;33m,\u001b[0m \u001b[0mepsilon\u001b[0m\u001b[1;33m)\u001b[0m    \u001b[1;31m#calculating root using Newton Raphson\u001b[0m\u001b[1;33m\u001b[0m\u001b[1;33m\u001b[0m\u001b[0m\n\u001b[0m\u001b[0;32m     17\u001b[0m \u001b[0mprint\u001b[0m\u001b[1;33m(\u001b[0m\u001b[1;34m\"Value of root when guess is 4 is \"\u001b[0m\u001b[1;33m,\u001b[0m \u001b[0mroot_1\u001b[0m\u001b[1;33m)\u001b[0m\u001b[1;33m\u001b[0m\u001b[1;33m\u001b[0m\u001b[0m\n\u001b[0;32m     18\u001b[0m \u001b[0mfunc\u001b[0m \u001b[1;33m=\u001b[0m \u001b[1;32mlambda\u001b[0m \u001b[0mx\u001b[0m\u001b[1;33m:\u001b[0m \u001b[0meval\u001b[0m\u001b[1;33m(\u001b[0m\u001b[0mexp\u001b[0m\u001b[1;33m)\u001b[0m\u001b[1;33m\u001b[0m\u001b[1;33m\u001b[0m\u001b[0m\n",
      "\u001b[1;32m~\\Anaconda3\\CPL\\midsem\\mylibrary_true.ipynb\u001b[0m in \u001b[0;36mnewton_raphson\u001b[1;34m(exp, k, eps)\u001b[0m\n",
      "\u001b[1;32m~\\Anaconda3\\CPL\\midsem\\mylibrary_true.ipynb\u001b[0m in \u001b[0;36m<lambda>\u001b[1;34m(x)\u001b[0m\n",
      "\u001b[1;32m~\\Anaconda3\\CPL\\midsem\\mylibrary_true.ipynb\u001b[0m in \u001b[0;36m<module>\u001b[1;34m\u001b[0m\n",
      "\u001b[1;31mOverflowError\u001b[0m: math range error"
     ]
    }
   ],
   "source": [
    "exp = \"((x-5)*math.exp(x)) + 5\"     #given expression\n",
    "epsilon = 0.0001                    #desired accuracy\n",
    "\n",
    "'''\n",
    "To find the root of the given equation, it can be rewritten\n",
    "as exp(x) = 5/(5-x). By the first look we see x = 0 is a\n",
    "solution, but it is not allowed as per the conditions provided.\n",
    "5/(5-x) has an asymptote at x = 5, so we guess that another\n",
    "root, i.e. exp(x) and 5/(5-x) intersect somewhere between x = 0.01 to 4.99.\n",
    "'''\n",
    "\n",
    "#Taking the first guess\n",
    "\n",
    "guess_1 = 4\n",
    "\n",
    "root_1 = ml.Roots.newton_raphson(exp, guess_1, epsilon)    #calculating root using Newton Raphson\n",
    "print(\"Value of root when guess is 4 is \", root_1)\n",
    "func = lambda x: eval(exp)\n",
    "\n",
    "print(\"Value of the function at root = \", round(func(root_1), 5))"
   ]
  },
  {
   "cell_type": "code",
   "execution_count": 25,
   "id": "d5aa4aa5",
   "metadata": {},
   "outputs": [
    {
     "name": "stdout",
     "output_type": "stream",
     "text": [
      "Value of root when guess is 3 is  8.058374691596431e-14\n",
      "Value of the function at root =  -0.0\n"
     ]
    },
    {
     "data": {
      "text/plain": [
       "'This root is very close to zero, so we search between 4 and 5'"
      ]
     },
     "execution_count": 25,
     "metadata": {},
     "output_type": "execute_result"
    }
   ],
   "source": [
    "#Taking the second guess\n",
    "\n",
    "guess_2 = 3\n",
    "\n",
    "root_2 = ml.Roots.newton_raphson(exp, guess_2, epsilon)      #calculating root using Newton Raphson\n",
    "print(\"Value of root when guess is 3 is \", root_2)\n",
    "\n",
    "func = lambda x: eval(exp)\n",
    "\n",
    "print(\"Value of the function at root = \", round(func(root_2), 5))\n",
    "\n",
    "'''This root is very close to zero, so we search between 4 and 5'''"
   ]
  },
  {
   "cell_type": "code",
   "execution_count": 26,
   "id": "a1084b49",
   "metadata": {},
   "outputs": [
    {
     "data": {
      "text/plain": [
       "'For some reason we get a math range error when the guess is 4. So we take another guess'"
      ]
     },
     "execution_count": 26,
     "metadata": {},
     "output_type": "execute_result"
    }
   ],
   "source": [
    "'''For some reason we get a math range error when the guess is 4. So we take another guess'''"
   ]
  },
  {
   "cell_type": "code",
   "execution_count": 27,
   "id": "02fb29b9",
   "metadata": {},
   "outputs": [
    {
     "name": "stdout",
     "output_type": "stream",
     "text": [
      "Value of root when guess is 4.5 is  4.965114231744279\n",
      "Value of the function at root =  0.0\n",
      "\n",
      "This value satisfies all conditions. So this is the correct root upto the desired accuracy.\n"
     ]
    }
   ],
   "source": [
    "#Taking the third guess\n",
    "\n",
    "guess_3 = 4.5\n",
    "\n",
    "root_3 = ml.Roots.newton_raphson(exp, guess_3, epsilon)     #calculating root using Newton Raphson\n",
    "print(\"Value of root when guess is 4.5 is \", root_3)\n",
    "\n",
    "func = lambda x: eval(exp)\n",
    "\n",
    "print(\"Value of the function at root = \", round(func(root_3), 5))\n",
    "\n",
    "'''This value seems to be the correct one'''\n",
    "print()\n",
    "print(\"This value satisfies all conditions. So this is the correct root upto the desired accuracy.\")"
   ]
  },
  {
   "cell_type": "code",
   "execution_count": 28,
   "id": "239e0a49",
   "metadata": {},
   "outputs": [
    {
     "name": "stdout",
     "output_type": "stream",
     "text": [
      "The value of the Wein's constant b =  0.002899010330738291\n"
     ]
    }
   ],
   "source": [
    "#Given that x = h*c/(b*k) where b = lambda_max * T, we solve\n",
    "#for b. b = h*c / (x*k) #Abha Vishwakarma 1911003\n",
    "\n",
    "#Given values are\n",
    "h = 6.626 * pow(10,-34) #m^2 kg / s\n",
    "k = 1.381 * pow(10,-23) #m^2 kg / (K s^2)\n",
    "c = 3 * pow(10,8) #m / s\n",
    "x_val = root_3\n",
    "\n",
    "#So\n",
    "b = (h * c) / (x_val * k)\n",
    "print(\"The value of the Wein's constant b = \", b)"
   ]
  },
  {
   "cell_type": "code",
   "execution_count": null,
   "id": "269aa4fb",
   "metadata": {},
   "outputs": [],
   "source": []
  }
 ],
 "metadata": {
  "kernelspec": {
   "display_name": "Python 3",
   "language": "python",
   "name": "python3"
  },
  "language_info": {
   "codemirror_mode": {
    "name": "ipython",
    "version": 3
   },
   "file_extension": ".py",
   "mimetype": "text/x-python",
   "name": "python",
   "nbconvert_exporter": "python",
   "pygments_lexer": "ipython3",
   "version": "3.8.8"
  }
 },
 "nbformat": 4,
 "nbformat_minor": 5
}
