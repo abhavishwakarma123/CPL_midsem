{
 "cells": [
  {
   "cell_type": "code",
   "execution_count": 21,
   "id": "c893cbf6",
   "metadata": {},
   "outputs": [],
   "source": [
    "import import_ipynb            #for import ipynb files\n",
    "import mylibrary_true as ml         #importing library\n",
    "import numpy as np             #for loading file\n",
    "import math                    #floor and ceil"
   ]
  },
  {
   "cell_type": "code",
   "execution_count": 22,
   "id": "3af13d78",
   "metadata": {},
   "outputs": [
    {
     "name": "stdout",
     "output_type": "stream",
     "text": [
      "[[ 3. -7. -2.  2.]\n",
      " [-3.  5.  1.  0.]\n",
      " [ 6. -4.  0. -5.]\n",
      " [-9.  5. -5. 12.]]\n",
      "[[-9.0], [5.0], [7.0], [11.0]]\n"
     ]
    }
   ],
   "source": [
    "#Loading files\n",
    "\n",
    "A = np.loadtxt('q3_1.csv', delimiter = ',')\n",
    "b = np.loadtxt('q3_2.csv', delimiter = ',')\n",
    "b = ml.Matrix_operations.make_proper_column(b)        #Making b of the form [[],[],[],...]\n",
    "print(A)\n",
    "print(b)"
   ]
  },
  {
   "cell_type": "code",
   "execution_count": 23,
   "id": "3bac42a1",
   "metadata": {},
   "outputs": [
    {
     "name": "stdout",
     "output_type": "stream",
     "text": [
      "The given equations are:\n",
      "\n",
      "\n",
      "3.0 x +  -7.0 y +  -2.0 z +  2.0 w =  -9.0\n",
      "-3.0 x +  5.0 y +  1.0 z +  0.0 w =  5.0\n",
      "6.0 x +  -4.0 y +  0.0 z +  -5.0 w =  7.0\n",
      "-9.0 x +  5.0 y +  -5.0 z +  12.0 w =  11.0\n",
      "\n",
      "\n"
     ]
    }
   ],
   "source": [
    "#Printing the equation\n",
    "\n",
    "ml.Printing.print_eq(A,b)"
   ]
  },
  {
   "cell_type": "code",
   "execution_count": 24,
   "id": "6eb82571",
   "metadata": {},
   "outputs": [
    {
     "name": "stdout",
     "output_type": "stream",
     "text": [
      "Upon using dolittle decomposition for Ax = b\n",
      "The solutions are:\n",
      "\n",
      "\n",
      "x  =  3.0\n",
      "y  =  4.0\n",
      "z  =  -6.0\n",
      "w  =  -1.0\n",
      "\n",
      "\n"
     ]
    }
   ],
   "source": [
    "#Solving using dolittle\n",
    "\n",
    "x = ml.LU.solve_dolittle(A, b)\n",
    "\n",
    "\n",
    "#Printing the solutions #Abha Vishwakarma 1911003\n",
    "\n",
    "print(\"Upon using dolittle decomposition for Ax = b\")\n",
    "ml.Printing.print_sol(ml.Round.round_matrix(x))"
   ]
  },
  {
   "cell_type": "code",
   "execution_count": 25,
   "id": "b441a314",
   "metadata": {},
   "outputs": [
    {
     "name": "stdout",
     "output_type": "stream",
     "text": [
      "Upon taking the product A*x we get:\n",
      "[[-9.0], [5.0], [7.0], [11.0]]\n"
     ]
    },
    {
     "data": {
      "text/plain": [
       "'This matrix is equal to the b matrix given, hence the solutions are correct to the desired order'"
      ]
     },
     "execution_count": 25,
     "metadata": {},
     "output_type": "execute_result"
    }
   ],
   "source": [
    "#checking the solutions\n",
    "\n",
    "chk = ml.Matrix_operations.mat_mult(A, x)\n",
    "print(\"Upon taking the product A*x we get:\")\n",
    "print(chk)\n",
    "\n",
    "'''This matrix is equal to the b matrix given, hence the solutions are correct to the desired order'''"
   ]
  },
  {
   "cell_type": "code",
   "execution_count": null,
   "id": "a5ccb5b9",
   "metadata": {},
   "outputs": [],
   "source": []
  }
 ],
 "metadata": {
  "kernelspec": {
   "display_name": "Python 3",
   "language": "python",
   "name": "python3"
  },
  "language_info": {
   "codemirror_mode": {
    "name": "ipython",
    "version": 3
   },
   "file_extension": ".py",
   "mimetype": "text/x-python",
   "name": "python",
   "nbconvert_exporter": "python",
   "pygments_lexer": "ipython3",
   "version": "3.8.8"
  }
 },
 "nbformat": 4,
 "nbformat_minor": 5
}
